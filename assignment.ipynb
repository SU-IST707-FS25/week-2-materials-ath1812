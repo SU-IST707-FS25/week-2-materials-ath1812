{
 "cells": [
  {
   "cell_type": "markdown",
   "id": "8110fc71",
   "metadata": {
    "problem_id": "ex1"
   },
   "source": [
    "#### Exercise 1\n",
    "<!-- @q -->\n",
    "\n",
    "1. What kinds of EDA techniques might you use to explore the following types of data:\n",
    "    - Numeric data?  \n",
    "    - Categorical data?  \n",
    "    - The relationship between categorical and numeric data?"
   ]
  },
  {
   "cell_type": "markdown",
   "id": "813b98cf",
   "metadata": {
    "part_id": "ex1-part1",
    "span": "ex1-part1.answer",
    "student": true
   },
   "source": [
    "1) Numeric data : We can use summary statistics such as mean, median, standard deviation. We can also use plots for detailed exploration.\n",
    "\n",
    "2) categorical data : frequency table.\n",
    "\n",
    "3) relationship between categorical and numeric : I didn't really get the question but if its group wise we can do mean median per category."
   ]
  },
  {
   "cell_type": "markdown",
   "id": "e5af7624",
   "metadata": {
    "part_id": "ex1-part2"
   },
   "source": [
    "2. Generate some fake data (~1000 rows) with 1 categorical column (with 10 categories) and 2 numeric columns. Use the techniques you mentioned to explore the numeric, categorical, and the relationship between them."
   ]
  },
  {
   "cell_type": "code",
   "execution_count": 9,
   "id": "b78018a6",
   "metadata": {
    "additional_cells_expected": true,
    "part_id": "ex1-part2",
    "span": "ex1-part2.code",
    "student": true
   },
   "outputs": [
    {
     "name": "stdout",
     "output_type": "stream",
     "text": [
      "Category\n",
      "C_10    120\n",
      "C_4     108\n",
      "C_2     101\n",
      "C_8      99\n",
      "C_5      98\n",
      "C_1      98\n",
      "C_3      97\n",
      "C_6      96\n",
      "C_9      93\n",
      "C_7      90\n",
      "Name: count, dtype: int64\n",
      "  Category       Num1        Num2\n",
      "0      C_2  47.294112  114.863569\n",
      "1      C_3  49.500714  123.566907\n",
      "2      C_9  42.039850  100.398016\n",
      "3      C_9  46.954651   99.854125\n",
      "4      C_3  40.143052  111.248472\n"
     ]
    }
   ],
   "source": [
    "import pandas as pd\n",
    "import numpy as np\n",
    "import matplotlib.pyplot as plt\n",
    "\n",
    "n = 1000\n",
    "categories = [f\"C_{i}\" for i in range(1, 11)]\n",
    "\n",
    "df = pd.DataFrame({\n",
    "    \"Category\": np.random.choice(categories, n),\n",
    "    \"Num1\": np.random.normal(loc=50, scale=10, size=n),\n",
    "    \"Num2\": np.random.normal(loc=100, scale=20, size=n)\n",
    "})\n",
    "\n",
    "print(df[\"Category\"].value_counts())  \n",
    "print(df.head())"
   ]
  },
  {
   "cell_type": "code",
   "execution_count": null,
   "id": "e9bdce91",
   "metadata": {
    "additional_cells_expected": true,
    "part_id": "ex1-part2",
    "span": "ex1-part2.code",
    "student": true
   },
   "outputs": [
    {
     "name": "stdout",
     "output_type": "stream",
     "text": [
      "              Num1         Num2\n",
      "count  1000.000000  1000.000000\n",
      "mean     50.146504    99.487422\n",
      "std      10.007730    19.460889\n",
      "min      18.663679    36.929783\n",
      "25%      43.512021    86.741759\n",
      "50%      50.383341    99.371228\n",
      "75%      56.444150   112.129381\n",
      "max      81.574649   160.133608\n"
     ]
    },
    {
     "data": {
      "text/plain": [
       "(array([  3.,   5.,   7.,  16.,  29.,  39.,  74.,  85., 111., 116., 143.,\n",
       "        120.,  85.,  69.,  38.,  28.,  17.,   8.,   2.,   5.]),\n",
       " array([18.66367877, 21.80922729, 24.95477582, 28.10032434, 31.24587287,\n",
       "        34.39142139, 37.53696992, 40.68251845, 43.82806697, 46.9736155 ,\n",
       "        50.11916402, 53.26471255, 56.41026107, 59.5558096 , 62.70135813,\n",
       "        65.84690665, 68.99245518, 72.1380037 , 75.28355223, 78.42910076,\n",
       "        81.57464928]),\n",
       " <BarContainer object of 20 artists>)"
      ]
     },
     "execution_count": 10,
     "metadata": {},
     "output_type": "execute_result"
    },
    {
     "data": {
      "image/png": "[encoded data removed]",
      "text/plain": [
       "<Figure size 640x480 with 1 Axes>"
      ]
     },
     "metadata": {},
     "output_type": "display_data"
    }
   ],
   "source": [
    "print(df[[\"Num1\", \"Num2\"]].describe())\n",
    "\n",
    "##for histogram exploration \n",
    "\n",
    "plt.hist(df[\"Num1\"],bins=20)\n"
   ]
  },
  {
   "cell_type": "code",
   "execution_count": 12,
   "id": "d32a8118",
   "metadata": {
    "additional_cells_expected": true,
    "part_id": "ex1-part2",
    "span": "ex1-part2.code",
    "student": true
   },
   "outputs": [
    {
     "name": "stdout",
     "output_type": "stream",
     "text": [
      "\n",
      "Frequency Table:\n",
      " Category\n",
      "C_10    120\n",
      "C_4     108\n",
      "C_2     101\n",
      "C_8      99\n",
      "C_5      98\n",
      "C_1      98\n",
      "C_3      97\n",
      "C_6      96\n",
      "C_9      93\n",
      "C_7      90\n",
      "Name: count, dtype: int64\n"
     ]
    }
   ],
   "source": [
    "frequency_table = df['Category'].value_counts()\n",
    "\n",
    "print(\"\\nFrequency Table:\\n\", freq_table)\n"
   ]
  },
  {
   "cell_type": "code",
   "execution_count": 14,
   "id": "89d6dab1",
   "metadata": {
    "additional_cells_expected": true,
    "part_id": "ex1-part2",
    "span": "ex1-part2.code",
    "student": true
   },
   "outputs": [
    {
     "name": "stdout",
     "output_type": "stream",
     "text": [
      "\n",
      "Group-wise Summary:\n",
      "                Num1                              Num2                       \n",
      "               mean     median        std        mean      median        std\n",
      "Category                                                                    \n",
      "C_1       49.732913  50.921392  10.521022   96.377880   96.550478  17.713458\n",
      "C_10      50.361178  51.559213  10.545431   97.840709   98.264282  19.086114\n",
      "C_2       51.015037  51.122672  11.135331   99.596751  100.396573  20.917040\n",
      "C_3       50.699107  49.663875   9.246972   99.924004  104.810563  21.207420\n",
      "C_4       49.722786  50.233633   9.747705  102.295261  103.431312  18.425155\n",
      "C_5       49.677961  49.814628  10.806359   98.918913   98.519864  20.241085\n",
      "C_6       50.361968  51.332411  10.040848   98.658420   99.196577  21.708285\n",
      "C_7       49.767163  49.783408   9.992108   99.618239   98.518910  17.417433\n",
      "C_8       49.643762  50.019598   9.191773  101.618922   98.729756  18.707506\n",
      "C_9       50.451371  50.490807   8.733788  100.113334  100.909657  18.873997\n"
     ]
    }
   ],
   "source": [
    "group_sum = df.groupby('Category')[['Num1','Num2']].agg(['mean','median','std'])\n",
    "print(\"\\nGroup-wise Summary:\\n\", group_sum)\n"
   ]
  },
  {
   "cell_type": "code",
   "execution_count": null,
   "id": "df5799fe",
   "metadata": {
    "additional_cells_expected": true,
    "part_id": "ex1-part2",
    "span": "ex1-part2.code",
    "student": true
   },
   "outputs": [],
   "source": [
    "\n"
   ]
  },
  {
   "cell_type": "markdown",
   "id": "25320be1",
   "metadata": {
    "problem_id": "2"
   },
   "source": [
    "#### Exercise 2\n",
    "\n",
    "\n",
    "Generate a data set you can use with a supervised ML model.  The data should meet the following criteria:\n",
    "   - It should have 1000 rows\n",
    "   - It should have 6 columns, with one column (your \"target\" column being a boolean column), one categorical column with 5 categories, and 4 numeric columns.\n",
    "   - The numeric columns should have dramatically different scales - different means, different std. deviations.\n",
    "   - Each non-target column should have about 5% nulls.\n",
    "\n",
    "Make this data a little more interesting by calculating the target column using a noisy function of the other columns."
   ]
  },
  {
   "cell_type": "code",
   "execution_count": 17,
   "id": "a941ebec",
   "metadata": {
    "additional_cells_expected": true,
    "part_id": "2-part1",
    "span": "2-part1.code",
    "student": true
   },
   "outputs": [
    {
     "name": "stdout",
     "output_type": "stream",
     "text": [
      "Category\n",
      "C_1    202\n",
      "C_3    194\n",
      "C_2    191\n",
      "C_4    184\n",
      "C_5    179\n",
      "Name: count, dtype: int64\n",
      "  Category      Num11       Num22      Num32      Num42  Target\n",
      "0      C_1  61.646580   85.388734  20.782171  -2.512948    True\n",
      "1      C_3  49.588697  102.091434  30.395107  65.432600   False\n",
      "2      C_1  46.731854   82.501431  86.493824  37.439447   False\n",
      "3      C_4  38.829671         NaN  76.457553  62.403118   False\n",
      "4      C_1  66.634706  106.062964  32.325104  81.943104    True\n"
     ]
    }
   ],
   "source": [
    "n = 1000\n",
    "categories = [f\"C_{i}\" for i in range(1, 6)]\n",
    "\n",
    "df = pd.DataFrame({\n",
    "    \"Category\": np.random.choice(categories, n),\n",
    "    \"Num11\": np.random.normal(loc=50, scale=10, size=n),\n",
    "    \"Num22\": np.random.normal(loc=100, scale=20, size=n),\n",
    "    \"Num32\": np.random.normal(loc=45, scale=30, size=n),\n",
    "    \"Num42\": np.random.normal(loc=70, scale=40, size=n),\n",
    "    \n",
    "})\n",
    "df['Target'] = df['Num11'] > 50\n",
    "for col in df.columns:\n",
    "    if col != 'Target':\n",
    "        df.loc[df.sample(frac=0.05).index, col] = np.nan\n",
    "\n",
    "\n",
    "print(df[\"Category\"].value_counts())  \n",
    "print(df.head())"
   ]
  },
  {
   "cell_type": "code",
   "execution_count": null,
   "id": "d660fce9",
   "metadata": {
    "additional_cells_expected": true,
    "part_id": "2-part1",
    "span": "2-part1.code",
    "student": true
   },
   "outputs": [],
   "source": [
    "# Your code here\n"
   ]
  },
  {
   "cell_type": "markdown",
   "id": "53678de6",
   "metadata": {
    "problem_id": "ex2"
   },
   "source": [
    "#### Exercise 3\n",
    "\n",
    "Use whatever resources you need to figure out how to build an SKLearn ML pipelines. Use a pipeline to build an ML approach to predicting your target column in the preceding data with logistic regression.  I have set up the problem below so that you will write your code in a function function call that takes an SKLearn model and data frame and returns the results of a cross validation scoring routine.  \n",
    "\n",
    "I have not taught you how to do this; use the book, google, the notes, chatgpt, or whatever. This is a test of your ability to *find* information, and use this to construct a solution. Your solution should:\n",
    "\n",
    "- Use a transformer pipeline that processes your numeric and categorical features separately\n",
    "- Place everything in a pipeline with the classifier that is passed in to the function.\n",
    "- I've already implemented the call to cross_val_score - to make it work, you'll need to assign your pipeline to the `pipeline` variable.\n",
    "\n",
    "_Note: You could just feed this question to AI and get an answer, and chances are, it will be right. But if you do, you won't really learn much. So, be thoughtful in your use of AI here - you can use it to build the solution step by step, and it will explain how everything works. It's all in how you use it. So, it's your choice - go for the easy grade, or learn something._"
   ]
  },
  {
   "cell_type": "code",
   "execution_count": null,
   "id": "f4bd23a7",
   "metadata": {
    "part_id": "ex2-part1",
    "span": "ex2-part1.fill",
    "student": true
   },
   "outputs": [
    {
     "name": "stdout",
     "output_type": "stream",
     "text": [
      "F1 (5-fold): mean=0.963, std=0.010\n",
      "Fold scores: [0.95  0.96  0.98  0.966 0.958]\n"
     ]
    }
   ],
   "source": [
    "import numpy as np\n",
    "import pandas as pd\n",
    "\n",
    "from sklearn.compose import ColumnTransformer\n",
    "from sklearn.impute import SimpleImputer\n",
    "from sklearn.preprocessing import OneHotEncoder, StandardScaler\n",
    "from sklearn.pipeline import Pipeline\n",
    "from sklearn.ensemble import RandomForestClassifier\n",
    "from sklearn.linear_model import LogisticRegression\n",
    "\n",
    "from sklearn.model_selection import cross_val_score\n",
    "\n",
    "data = pd.DataFrame({\n",
    "    \"Category\": np.random.choice(categories, n),\n",
    "    \"Num11\": np.random.normal(loc=50, scale=10, size=n),\n",
    "    \"Num22\": np.random.normal(loc=100, scale=20, size=n),\n",
    "    \"Num32\": np.random.normal(loc=45, scale=30, size=n),\n",
    "    \"Num42\": np.random.normal(loc=70, scale=40, size=n),\n",
    "    \n",
    "})\n",
    "\n",
    "df = pd.DataFrame(data)\n",
    "\n",
    "df['Target'] = df['Num11'] > 50\n",
    "for col in df.columns:\n",
    "    if col != 'Target':\n",
    "        df.loc[df.sample(frac=0.05).index, col] = np.nan\n",
    "\n",
    "\n",
    "\n",
    "def run_classifier(df, classifier):\n",
    "    # Separate features/target, using the correct column name 'Target0'\n",
    "    y = df[\"Target\"].astype(int)\n",
    "    X = df.drop(columns=[\"Target\"])\n",
    "\n",
    "    numeric_features = ['Num11', 'Num22', 'Num32', 'Num42']\n",
    "    categorical_features = ['Category']\n",
    "\n",
    "\n",
    "    numeric_transformer = Pipeline(steps=[\n",
    "        ('imputer', SimpleImputer(strategy='mean')),\n",
    "        ('scaler', StandardScaler())\n",
    "    ])\n",
    "\n",
    "\n",
    "    categorical_transformer = Pipeline(steps=[\n",
    "        ('imputer', SimpleImputer(strategy='most_frequent')),\n",
    "        ('onehot', OneHotEncoder(handle_unknown='ignore'))\n",
    "    ])\n",
    "\n",
    "    \n",
    "    preprocessor = ColumnTransformer(\n",
    "        transformers=[\n",
    "            ('num', numeric_transformer, numeric_features),\n",
    "            ('cat', categorical_transformer, categorical_features)\n",
    "        ])\n",
    "\n",
    " \n",
    "    pipeline = Pipeline(steps=[\n",
    "        ('preprocessor', preprocessor),\n",
    "        ('classifier', classifier)\n",
    "    ])\n",
    "\n",
    "   \n",
    "    return cross_val_score(pipeline, X, y, scoring=\"f1\", cv=5)\n",
    "\n",
    "scores = run_classifier(df, LogisticRegression(random_state=42))\n",
    "\n",
    "print(f\"F1 (5-fold): mean={scores.mean():.3f}, std={scores.std():.3f}\")\n",
    "print(\"Fold scores:\", np.round(scores, 3))"
   ]
  },
  {
   "cell_type": "markdown",
   "id": "0f06eb0b",
   "metadata": {
    "part_id": "ex2-part2"
   },
   "source": [
    "Try using a `RandomForestClassifier` in the preceding pipeline. Just call `run_classifier` with a `RandomForestClassifier`, and print out the results as above."
   ]
  },
  {
   "cell_type": "code",
   "execution_count": 62,
   "id": "a65de74c",
   "metadata": {
    "part_id": "ex2-part2",
    "span": "ex2-part2.code",
    "student": true
   },
   "outputs": [
    {
     "data": {
      "text/plain": [
       "array([0.97087379, 0.97512438, 0.97512438, 0.97536946, 0.97087379])"
      ]
     },
     "execution_count": 62,
     "metadata": {},
     "output_type": "execute_result"
    }
   ],
   "source": [
    "run_classifier(df, RandomForestClassifier(random_state=42))"
   ]
  },
  {
   "cell_type": "markdown",
   "id": "66bbb3b1",
   "metadata": {
    "part_id": "ex2-part3"
   },
   "source": [
    "Normally, `RandomForestClassifier`s are considered to be more powerful than `LogisticRegression`.  Depending on your data, this may or may not be the case. Reflect on your answers - which one does better here, and why do you think that is?  Once again, you might use AI, but you should probably also try to _understand_ the answer."
   ]
  },
  {
   "cell_type": "markdown",
   "id": "bdb72f7e",
   "metadata": {
    "part_id": "ex2-part3",
    "span": "ex2-part3.answer",
    "student": true
   },
   "source": [
    "I would suggest the second model worked better which was the randomforestclassifier, as the mean of the logistic regression is 0.963 and for randomforest its 0.97 which is sligthly higher so it was a better model. "
   ]
  }
 ],
 "metadata": {
  "kernelspec": {
   "display_name": "Python 3",
   "language": "python",
   "name": "python3"
  },
  "language_info": {
   "codemirror_mode": {
    "name": "ipython",
    "version": 3
   },
   "file_extension": ".py",
   "mimetype": "text/x-python",
   "name": "python",
   "nbconvert_exporter": "python",
   "pygments_lexer": "ipython3",
   "version": "3.12.1"
  }
 },
 "nbformat": 4,
 "nbformat_minor": 5
}
